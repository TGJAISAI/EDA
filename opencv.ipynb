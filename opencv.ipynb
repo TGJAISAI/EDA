{
  "nbformat": 4,
  "nbformat_minor": 0,
  "metadata": {
    "colab": {
      "name": "Untitled3.ipynb",
      "provenance": [],
      "authorship_tag": "ABX9TyNogDfTR6cD5PpVpWn+DzAO",
      "include_colab_link": true
    },
    "kernelspec": {
      "name": "python3",
      "display_name": "Python 3"
    },
    "language_info": {
      "name": "python"
    }
  },
  "cells": [
    {
      "cell_type": "markdown",
      "metadata": {
        "id": "view-in-github",
        "colab_type": "text"
      },
      "source": [
        "<a href=\"https://colab.research.google.com/github/TGJAISAI/EDA/blob/main/opencv.ipynb\" target=\"_parent\"><img src=\"https://colab.research.google.com/assets/colab-badge.svg\" alt=\"Open In Colab\"/></a>"
      ]
    },
    {
      "cell_type": "code",
      "source": [
        "!pip install opencv-python"
      ],
      "metadata": {
        "colab": {
          "base_uri": "https://localhost:8080/"
        },
        "id": "42z1kGmuBgSG",
        "outputId": "3732a0b6-9138-49c9-ffd8-3c6e49b11d58"
      },
      "execution_count": null,
      "outputs": [
        {
          "output_type": "stream",
          "name": "stdout",
          "text": [
            "Requirement already satisfied: opencv-python in /usr/local/lib/python3.7/dist-packages (4.1.2.30)\n",
            "Requirement already satisfied: numpy>=1.14.5 in /usr/local/lib/python3.7/dist-packages (from opencv-python) (1.21.6)\n"
          ]
        }
      ]
    },
    {
      "cell_type": "code",
      "source": [
        "import cv2\n",
        "print(cv2.__version__)"
      ],
      "metadata": {
        "colab": {
          "base_uri": "https://localhost:8080/"
        },
        "id": "V9_GjOfkCSqj",
        "outputId": "294549ae-0cac-407d-b090-209fe46a70fc"
      },
      "execution_count": null,
      "outputs": [
        {
          "output_type": "stream",
          "name": "stdout",
          "text": [
            "4.1.2\n"
          ]
        }
      ]
    },
    {
      "cell_type": "code",
      "source": [
        "from google.colab.patches import cv2_imshow"
      ],
      "metadata": {
        "id": "B5e3PpwDDWkC"
      },
      "execution_count": null,
      "outputs": []
    },
    {
      "cell_type": "code",
      "source": [
        "import numpy as np \n",
        "image = np.array(image)"
      ],
      "metadata": {
        "id": "gi_WxM8tHC5I"
      },
      "execution_count": null,
      "outputs": []
    },
    {
      "cell_type": "code",
      "source": [
        "\n",
        "# These imports let you use opencv\n",
        "import cv2 #opencv itself\n",
        "import numpy as np # matrix manipulations\n",
        "\n",
        "#the following are to do with this interactive notebook code\n",
        "%matplotlib inline \n",
        "from matplotlib import pyplot as plt # this lets you draw inline pictures in the notebooks\n",
        "import pylab # this allows you to control figure size \n",
        "pylab.rcParams['figure.figsize'] = (10.0, 8.0) # this controls figure size in the notebook"
      ],
      "metadata": {
        "id": "Qcef65eKJ-Ca"
      },
      "execution_count": null,
      "outputs": []
    },
    {
      "cell_type": "code",
      "source": [
        "# Python program to explain\n",
        "# cv2.polylines() method\n",
        "\n",
        "import cv2\n",
        "import numpy as np\n",
        "\n",
        "# path\n",
        "path = \"/content/test.mp4\"\n",
        "image_rgb = cv2.cvtColor((np.array(path), cv2.COLOR_BGR2RGB)\n",
        "\n",
        "plt.imshow('path', image_rgb)\n",
        "cv2.waitKey(0)\n",
        "cv2.destroyAllWindows()\n",
        "\n",
        "\n"
      ],
      "metadata": {
        "colab": {
          "base_uri": "https://localhost:8080/",
          "height": 133
        },
        "id": "vhrNucG1Ch46",
        "outputId": "39c0cfb3-e7ca-4c97-c59a-48e588666929"
      },
      "execution_count": null,
      "outputs": [
        {
          "output_type": "error",
          "ename": "SyntaxError",
          "evalue": "ignored",
          "traceback": [
            "\u001b[0;36m  File \u001b[0;32m\"<ipython-input-27-77c346953e2c>\"\u001b[0;36m, line \u001b[0;32m11\u001b[0m\n\u001b[0;31m    plt.imshow('path', image_rgb)\u001b[0m\n\u001b[0m      ^\u001b[0m\n\u001b[0;31mSyntaxError\u001b[0m\u001b[0;31m:\u001b[0m invalid syntax\n"
          ]
        }
      ]
    },
    {
      "cell_type": "code",
      "source": [
        "# Reading an image in default\n",
        "# mode\n",
        "image = cv2.imread(path)\n",
        "\n",
        "# Window name in which image is\n",
        "# displayed\n",
        "window_name = 'Image'\n",
        "\n",
        "# Polygon corner points coordinates\n",
        "pts = np.array([[25, 70], [25, 160],\n",
        "\t\t\t\t[110, 200], [200, 160],\n",
        "\t\t\t\t[200, 70], [110, 20]],\n",
        "\t\t\tnp.int32)\n",
        "\n",
        "pts = pts.reshape((-1, 1, 2))\n",
        "\n",
        "isClosed = True\n",
        "\n",
        "# Blue color in BGR\n",
        "color = (255, 0, 0)\n",
        "\n",
        "# Line thickness of 2 px\n",
        "thickness = 2\n",
        "\n",
        "# Using cv2.polylines() method\n",
        "# Draw a Blue polygon with\n",
        "# thickness of 1 px\n",
        "image = cv2.polylines(image, [pts],\n",
        "\t\t\t\t\tisClosed, color, thickness)\n",
        "\n",
        "# Displaying the image\n",
        "while(1):\n",
        "\t\n",
        "\tcv2_imshow(image)\n",
        "\tif cv2.waitKey(20) & 0xFF == 27:\n",
        "\t\tbreak\n",
        "\t\t\n",
        "cv2.destroyAllWindows()"
      ],
      "metadata": {
        "id": "oSEwCb2BGvS_"
      },
      "execution_count": null,
      "outputs": []
    }
  ]
}